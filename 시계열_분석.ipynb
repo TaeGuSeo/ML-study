{
  "nbformat": 4,
  "nbformat_minor": 0,
  "metadata": {
    "colab": {
      "provenance": [],
      "authorship_tag": "ABX9TyPq0qxUXmm4pLimmow31yzY",
      "include_colab_link": true
    },
    "kernelspec": {
      "name": "python3",
      "display_name": "Python 3"
    },
    "language_info": {
      "name": "python"
    }
  },
  "cells": [
    {
      "cell_type": "markdown",
      "metadata": {
        "id": "view-in-github",
        "colab_type": "text"
      },
      "source": [
        "<a href=\"https://colab.research.google.com/github/TaeGuSeo/ML-study/blob/main/%EC%8B%9C%EA%B3%84%EC%97%B4_%EB%B6%84%EC%84%9D.ipynb\" target=\"_parent\"><img src=\"https://colab.research.google.com/assets/colab-badge.svg\" alt=\"Open In Colab\"/></a>"
      ]
    },
    {
      "cell_type": "code",
      "execution_count": null,
      "metadata": {
        "id": "vkx6uNsOJeam",
        "colab": {
          "base_uri": "https://localhost:8080/"
        },
        "outputId": "10e6c5a6-5b7d-4eaf-83f8-253b271ce559"
      },
      "outputs": [
        {
          "output_type": "stream",
          "name": "stdout",
          "text": [
            "Looking in indexes: https://pypi.org/simple, https://us-python.pkg.dev/colab-wheels/public/simple/\n",
            "Collecting pmdarima\n",
            "  Downloading pmdarima-1.8.5-cp37-cp37m-manylinux_2_17_x86_64.manylinux2014_x86_64.manylinux_2_24_x86_64.whl (1.4 MB)\n",
            "\u001b[K     |████████████████████████████████| 1.4 MB 16.3 MB/s \n",
            "\u001b[?25hRequirement already satisfied: pandas>=0.19 in /usr/local/lib/python3.7/dist-packages (from pmdarima) (1.3.5)\n",
            "Requirement already satisfied: joblib>=0.11 in /usr/local/lib/python3.7/dist-packages (from pmdarima) (1.1.0)\n",
            "Requirement already satisfied: scikit-learn>=0.22 in /usr/local/lib/python3.7/dist-packages (from pmdarima) (1.0.2)\n",
            "Requirement already satisfied: numpy>=1.19.3 in /usr/local/lib/python3.7/dist-packages (from pmdarima) (1.21.6)\n",
            "Requirement already satisfied: urllib3 in /usr/local/lib/python3.7/dist-packages (from pmdarima) (1.24.3)\n",
            "Collecting statsmodels!=0.12.0,>=0.11\n",
            "  Downloading statsmodels-0.13.2-cp37-cp37m-manylinux_2_17_x86_64.manylinux2014_x86_64.whl (9.8 MB)\n",
            "\u001b[K     |████████████████████████████████| 9.8 MB 15.8 MB/s \n",
            "\u001b[?25hRequirement already satisfied: setuptools!=50.0.0,>=38.6.0 in /usr/local/lib/python3.7/dist-packages (from pmdarima) (57.4.0)\n",
            "Requirement already satisfied: Cython!=0.29.18,>=0.29 in /usr/local/lib/python3.7/dist-packages (from pmdarima) (0.29.30)\n",
            "Requirement already satisfied: scipy>=1.3.2 in /usr/local/lib/python3.7/dist-packages (from pmdarima) (1.7.3)\n",
            "Requirement already satisfied: python-dateutil>=2.7.3 in /usr/local/lib/python3.7/dist-packages (from pandas>=0.19->pmdarima) (2.8.2)\n",
            "Requirement already satisfied: pytz>=2017.3 in /usr/local/lib/python3.7/dist-packages (from pandas>=0.19->pmdarima) (2022.1)\n",
            "Requirement already satisfied: six>=1.5 in /usr/local/lib/python3.7/dist-packages (from python-dateutil>=2.7.3->pandas>=0.19->pmdarima) (1.15.0)\n",
            "Requirement already satisfied: threadpoolctl>=2.0.0 in /usr/local/lib/python3.7/dist-packages (from scikit-learn>=0.22->pmdarima) (3.1.0)\n",
            "Requirement already satisfied: patsy>=0.5.2 in /usr/local/lib/python3.7/dist-packages (from statsmodels!=0.12.0,>=0.11->pmdarima) (0.5.2)\n",
            "Requirement already satisfied: packaging>=21.3 in /usr/local/lib/python3.7/dist-packages (from statsmodels!=0.12.0,>=0.11->pmdarima) (21.3)\n",
            "Requirement already satisfied: pyparsing!=3.0.5,>=2.0.2 in /usr/local/lib/python3.7/dist-packages (from packaging>=21.3->statsmodels!=0.12.0,>=0.11->pmdarima) (3.0.9)\n",
            "Installing collected packages: statsmodels, pmdarima\n",
            "  Attempting uninstall: statsmodels\n",
            "    Found existing installation: statsmodels 0.10.2\n",
            "    Uninstalling statsmodels-0.10.2:\n",
            "      Successfully uninstalled statsmodels-0.10.2\n",
            "Successfully installed pmdarima-1.8.5 statsmodels-0.13.2\n"
          ]
        }
      ],
      "source": [
        "pip install pmdarima"
      ]
    },
    {
      "cell_type": "code",
      "source": [
        "import os\n",
        "from pandas import to_datetime\n",
        "import seaborn as sns\n",
        "import itertools\n",
        "import warnings\n",
        "import datetime\n",
        "from datetime import datetime\n",
        "warnings.filterwarnings('ignore')\n",
        "\n",
        "%matplotlib inline\n",
        "\n",
        "import pandas as pd\n",
        "import matplotlib.pyplot as plt\n",
        "import numpy as np\n",
        "from pmdarima.arima import ndiffs\n",
        "import pmdarima as pm\n",
        "\n",
        "from statsmodels.tsa.arima_model import ARIMA\n",
        "from statsmodels.tsa.api import ExponentialSmoothing, SimpleExpSmoothing, Holt\n",
        "from sklearn.metrics import mean_squared_error\n",
        "from sklearn.linear_model import LinearRegression\n",
        "from sklearn import linear_model\n",
        "\n",
        "from pmdarima.model_selection import train_test_split"
      ],
      "metadata": {
        "id": "a4husvfHK4ft"
      },
      "execution_count": null,
      "outputs": []
    },
    {
      "cell_type": "code",
      "source": [
        "dates = ['2022-04-01','2022-04-08','2022-04-15','2022-04-22','2022-04-28','2022-05-06','2022-05-13','2022-05-20','2022-05-27','2022-06-03','2022-06-10','2022-06-17','2022-06-24']\n",
        "visits = ['5379','4571','5614','4866','1962','2088','2131','1843','1021','1869','2094','539','1224']\n",
        "\n",
        "df_traffic = pd.DataFrame((zip(dates,visits)),columns=['date','visits'])\n",
        "\n",
        "print(df_traffic)"
      ],
      "metadata": {
        "id": "oBVoXgSNLYY0",
        "colab": {
          "base_uri": "https://localhost:8080/"
        },
        "outputId": "b125e562-4f04-43aa-f4df-e17c27d249fa"
      },
      "execution_count": null,
      "outputs": [
        {
          "output_type": "stream",
          "name": "stdout",
          "text": [
            "          date visits\n",
            "0   2022-04-01   5379\n",
            "1   2022-04-08   4571\n",
            "2   2022-04-15   5614\n",
            "3   2022-04-22   4866\n",
            "4   2022-04-28   1962\n",
            "5   2022-05-06   2088\n",
            "6   2022-05-13   2131\n",
            "7   2022-05-20   1843\n",
            "8   2022-05-27   1021\n",
            "9   2022-06-03   1869\n",
            "10  2022-06-10   2094\n",
            "11  2022-06-17    539\n",
            "12  2022-06-24   1224\n"
          ]
        }
      ]
    },
    {
      "cell_type": "code",
      "source": [
        "X_train = df_traffic[df_traffic['date'] < '2022-06-01']\n",
        "X_valid = df_traffic[df_traffic['date'] >= '2022=06-01']"
      ],
      "metadata": {
        "id": "_Ttw0YkbaWEc"
      },
      "execution_count": null,
      "outputs": []
    },
    {
      "cell_type": "code",
      "source": [
        "nyc = X_train[['date','visits']]\n",
        "nyc_v = X_valid[['date','visits']]"
      ],
      "metadata": {
        "id": "w6qwb29AKz0J"
      },
      "execution_count": null,
      "outputs": []
    },
    {
      "cell_type": "code",
      "source": [
        "nyc.set_index('date',inplace=True)\n",
        "nyc_v.set_index('date',inplace=True)"
      ],
      "metadata": {
        "id": "b4Et5TgPKFCs"
      },
      "execution_count": null,
      "outputs": []
    },
    {
      "cell_type": "code",
      "source": [
        "index_4_weeks = pd.date_range(nyc.index[-1],freq='W', periods = 4, tz=None)"
      ],
      "metadata": {
        "id": "Tf_ij0Tjeeb0"
      },
      "execution_count": null,
      "outputs": []
    },
    {
      "cell_type": "code",
      "source": [
        "from pandas.core.indexes.datetimes import DatetimeIndex\n",
        "DatetimeIndex(['2022-08-30','2022-09-06','2022-09-13','2022-09-20'])"
      ],
      "metadata": {
        "colab": {
          "base_uri": "https://localhost:8080/"
        },
        "id": "UK12CUt5eC2D",
        "outputId": "daf6aaab-1367-4c1f-ee71-297506f88f3b"
      },
      "execution_count": null,
      "outputs": [
        {
          "output_type": "execute_result",
          "data": {
            "text/plain": [
              "DatetimeIndex(['2022-08-30', '2022-09-06', '2022-09-13', '2022-09-20'], dtype='datetime64[ns]', freq=None)"
            ]
          },
          "metadata": {},
          "execution_count": 98
        }
      ]
    },
    {
      "cell_type": "code",
      "source": [
        "auto_arima_model = pm.auto_arima(nyc, seasonal=False, m=52)\n",
        "\n",
        "fcast2 = auto_arima_model.predict(4)\n",
        "fcast2 = pd.Series(fcast2, index=index_4_weeks)\n",
        "fcast2 = fcast2.rename('Auto Arima')"
      ],
      "metadata": {
        "id": "WRFccziJeC4j"
      },
      "execution_count": null,
      "outputs": []
    },
    {
      "cell_type": "code",
      "source": [
        "df_date = ['04-01','04-08','04-15','04-22','04-28','05-06','05-13','05-20','05-27','06-03','06-10','06-17','06-24']\n",
        "pd_date = ['06-24','08-30','09-06','09-13','09-20']\n",
        "visit=[5379,4571,5614,4866,1962,2088,2131,1843,1021,1869,2094,539,1224]\n",
        "pd_visit=[1224,970,922,876,832]\n"
      ],
      "metadata": {
        "id": "K1EEbNQQhJvk"
      },
      "execution_count": null,
      "outputs": []
    },
    {
      "cell_type": "code",
      "source": [
        "import matplotlib\n",
        "matplotlib.rcParams['font.family'] = 'Malgun Gothic'\n",
        "matplotlib.rcParams['font.size'] = 11\n",
        "matplotlib.rcParams['axes.unicode_minus'] = False\n",
        "\n",
        "plt.plot(df_date,visit,label='visitors')\n",
        "plt.plot(pd_date,pd_visit,ls='--',color='red',label='Predict visitors')\n",
        "for idx, txt in enumerate(pd_visit):\n",
        "  plt.text(pd_date[idx],pd_visit[idx]+0.3,txt,rotation=30,color='black', ha = 'center')\n",
        "plt.legend()\n",
        "plt.xticks(rotation=45)\n",
        "\n",
        "plt.show()"
      ],
      "metadata": {
        "colab": {
          "base_uri": "https://localhost:8080/",
          "height": 285
        },
        "id": "-26SUBrpeC6k",
        "outputId": "25dd0377-db5f-4904-e722-fbf935471e3c"
      },
      "execution_count": null,
      "outputs": [
        {
          "output_type": "display_data",
          "data": {
            "text/plain": [
              "<Figure size 432x288 with 1 Axes>"
            ],
            "image/png": "[encoded data removed]"
          },
          "metadata": {
            "needs_background": "light"
          }
        }
      ]
    }
  ]
}